{
 "cells": [
  {
   "cell_type": "code",
   "execution_count": null,
   "id": "c4cdb1c9",
   "metadata": {},
   "outputs": [],
   "source": [
    "# This is my first page"
   ]
  },
  {
   "cell_type": "markdown",
   "id": "1c4d8a03",
   "metadata": {},
   "source": [
    "# Markdown cell is created"
   ]
  },
  {
   "cell_type": "markdown",
   "id": "579cd889",
   "metadata": {},
   "source": [
    "This is an introductory sentence, created in `Markdown`"
   ]
  },
  {
   "cell_type": "markdown",
   "id": "0e97221d",
   "metadata": {},
   "source": [
    "Data Science Languages are:\n",
    "- Python\n",
    "- R\n",
    "- SQL\n",
    "- C++\n",
    "- Java"
   ]
  },
  {
   "cell_type": "markdown",
   "id": "c329c410",
   "metadata": {},
   "source": [
    "Data Science Libraries are:\n",
    "- Scrapy\n",
    "- Numpy\n",
    "- SciPy\n",
    "- Sympy\n",
    "- Pandas\n",
    "- Scikit-Learn\n",
    "- PyTorch\n",
    "- TensorFlow"
   ]
  },
  {
   "cell_type": "markdown",
   "id": "9c61693c",
   "metadata": {},
   "source": [
    "Table of Data Science Tools is:\n",
    "\n",
    "|***No. #***| ***Tools*** |\n",
    "|   :---:   |  :---:      |\n",
    "|     01    | Apache Spark|\n",
    "|     02    | BigML       |\n",
    "|     03    | D3.js       |\n",
    "|     04    | SAS         |\n",
    "|     05    | MATLAB      |"
   ]
  },
  {
   "cell_type": "markdown",
   "id": "d310a9a7",
   "metadata": {},
   "source": [
    "Arithmetic expressions are: $\\newline$\n",
    "1 + 2 = 3 $\\newline$\n",
    "45 / 5"
   ]
  },
  {
   "cell_type": "code",
   "execution_count": 1,
   "id": "ff6e2945",
   "metadata": {},
   "outputs": [
    {
     "data": {
      "text/plain": [
       "3"
      ]
     },
     "execution_count": 1,
     "metadata": {},
     "output_type": "execute_result"
    }
   ],
   "source": [
    "1 + 2 # Addition"
   ]
  },
  {
   "cell_type": "code",
   "execution_count": 2,
   "id": "9c95dc01",
   "metadata": {},
   "outputs": [
    {
     "data": {
      "text/plain": [
       "9"
      ]
     },
     "execution_count": 2,
     "metadata": {},
     "output_type": "execute_result"
    }
   ],
   "source": [
    "3 * 3 # Multiplication"
   ]
  },
  {
   "cell_type": "code",
   "execution_count": 5,
   "id": "22f2d807",
   "metadata": {},
   "outputs": [
    {
     "name": "stdout",
     "output_type": "stream",
     "text": [
      "3.0\n"
     ]
    }
   ],
   "source": [
    "# Conversion from minutes to hours\n",
    "\n",
    "minutes = 180\n",
    "hour = minutes / 60\n",
    "print(hour)"
   ]
  },
  {
   "cell_type": "markdown",
   "id": "386d069b",
   "metadata": {},
   "source": [
    "Introductory sentence by an unordered list.\n",
    "Data Science, Machine Learning, Data Analyst\n",
    "Numpy, Pandas, Sympy"
   ]
  },
  {
   "cell_type": "markdown",
   "id": "3387a85c",
   "metadata": {},
   "source": [
    "## Author's Detail\n",
    "- **Name:** Hamza Shafiq\n",
    "- **Education:** MS/MPhil in Mathematics"
   ]
  },
  {
   "cell_type": "code",
   "execution_count": null,
   "id": "a6f5192c",
   "metadata": {},
   "outputs": [],
   "source": []
  }
 ],
 "metadata": {
  "kernelspec": {
   "display_name": "Python 3 (ipykernel)",
   "language": "python",
   "name": "python3"
  },
  "language_info": {
   "codemirror_mode": {
    "name": "ipython",
    "version": 3
   },
   "file_extension": ".py",
   "mimetype": "text/x-python",
   "name": "python",
   "nbconvert_exporter": "python",
   "pygments_lexer": "ipython3",
   "version": "3.9.12"
  }
 },
 "nbformat": 4,
 "nbformat_minor": 5
}
